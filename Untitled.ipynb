{
 "cells": [
  {
   "cell_type": "code",
   "execution_count": 1,
   "metadata": {},
   "outputs": [],
   "source": [
    "import math\n",
    "import numpy as np\n",
    "import matplotlib.pyplot as plt"
   ]
  },
  {
   "cell_type": "code",
   "execution_count": 56,
   "metadata": {},
   "outputs": [],
   "source": [
    "yn = [1.0, 0.0, 0.0]# [yn(1), yn(2), yn(3)]\n",
    "h = [0.1] # разные шаги\n",
    "\n",
    "yn_1 = [1.0]\n",
    "yn_2 = [0.0]\n",
    "yn_3 = [0.0]"
   ]
  },
  {
   "cell_type": "code",
   "execution_count": 5,
   "metadata": {},
   "outputs": [
    {
     "data": {
      "text/plain": [
       "array([[0.78867513, 0.78867513, 0.        ],\n",
       "       [0.21132487, 0.21132487, 0.78867513],\n",
       "       [0.        , 0.5       , 0.5       ]])"
      ]
     },
     "execution_count": 5,
     "metadata": {},
     "output_type": "execute_result"
    }
   ],
   "source": [
    "ButcherTable1 = np.array([[(3 + math.sqrt(3))/6, (3 + math.sqrt(3))/6, 0],\n",
    "                         [(3 - math.sqrt(3))/6, (3 - math.sqrt(3))/6, (3 + math.sqrt(3))/6],\n",
    "                         [0, 0.5, 0.5]])\n",
    "ButcherTable1"
   ]
  },
  {
   "cell_type": "code",
   "execution_count": 58,
   "metadata": {},
   "outputs": [],
   "source": [
    "#Задаем k\n",
    "\n",
    "k_n = [1, 2, 3] #номер k\n",
    "\n",
    "#реализация основных функций\n",
    "def func1(yn):\n",
    "    r = -0.04*yn[0] + 10**4*yn[1]*yn[2]\n",
    "    return r\n",
    "\n",
    "def func2(yn):\n",
    "    r = 0.04*yn[0] - 10**4*yn[1]*yn[2] - 3*10**7*yn[1]**2\n",
    "    return r\n",
    "\n",
    "def func3(yn):\n",
    "    r = 3*10**7*yn[1]**2\n",
    "\n",
    "#возвращает коэффиценты квадратного уравнения для k, если считаем k(1), подставляем в k_1 значение 1\n",
    "#я не долго пытался разобраться, как это подогнать под общий вид, работать аккуратно!\n",
    "def give_me_k_for_1(k_n, k_1):\n",
    "    \n",
    "    if k_n == 1:\n",
    "        list_for_a = [0, h[0]**2*ButcherTable1[0][0]*ButcherTable1[0][0], 1]\n",
    "        list_for_b = [h[0] * ButcherTable1[0][0], h[0] * ButcherTable1[0][0] * (yn[1] + yn[1]), 1]\n",
    "        list_for_c = yn\n",
    "        \n",
    "        a = func1(list_for_a)\n",
    "        b = func1(list_for_b) - 1\n",
    "        c = func1(list_for_c)\n",
    "        \n",
    "        r = [a, b, c]\n",
    "    \n",
    "    if k_n == 2:\n",
    "        list_for_a = [0, h[0]**2*ButcherTable1[0][0]*ButcherTable1[0][1], 1]\n",
    "        list_for_b = [h[0] * ButcherTable1[0][0], ButcherTable1[0][0] * (yn[1] + yn[1]) + (h[0]*ButcherTable1[0][0]*ButcherTable1[2][1]*k_1)**2, 1]\n",
    "        list_for_c = yn\n",
    "        list_for_c_k2 = [h[0]*k_1*ButcherTable1[1][1], h[0]*k_1*ButcherTable1[1][1], h[0]*k_1*ButcherTable1[1][1]]\n",
    "        \n",
    "        a = func1(list_for_a)\n",
    "        b = func1(list_for_b) - 1\n",
    "        c = func1(list_for_c) + func1(list_for_c_k2)\n",
    "        \n",
    "        r = [a, b, c]\n",
    "    return r\n",
    "\n",
    "\n",
    "\n",
    "def solve_eq(a):\n",
    "    \n",
    "    D = a[1]**2 - 4*a[0]*a[2]\n",
    "    \n",
    "    k1 = (-a[1] + math.sqrt(D))/(2*a[0])\n",
    "    k2 = (-a[1] - math.sqrt(D))/(2*a[0])\n",
    "    \n",
    "    return k1, k2"
   ]
  },
  {
   "cell_type": "code",
   "execution_count": 38,
   "metadata": {},
   "outputs": [
    {
     "data": {
      "text/plain": [
       "[62.20084679281461, -1.0031547005383792, -0.04]"
      ]
     },
     "execution_count": 38,
     "metadata": {},
     "output_type": "execute_result"
    }
   ],
   "source": [
    "give_me_k(1,1)"
   ]
  },
  {
   "cell_type": "code",
   "execution_count": 44,
   "metadata": {},
   "outputs": [
    {
     "name": "stdout",
     "output_type": "stream",
     "text": [
      "10.958454840062583\n",
      "3.3103556969097117\n"
     ]
    },
    {
     "data": {
      "text/plain": [
       "(0.03467404882618402, -0.01854637931261941)"
      ]
     },
     "execution_count": 44,
     "metadata": {},
     "output_type": "execute_result"
    }
   ],
   "source": [
    "solve_eq(give_me_k(1,1))"
   ]
  },
  {
   "cell_type": "code",
   "execution_count": 47,
   "metadata": {},
   "outputs": [
    {
     "data": {
      "text/plain": [
       "(0.03417568057834482, -0.018129011064780213)"
      ]
     },
     "execution_count": 47,
     "metadata": {},
     "output_type": "execute_result"
    }
   ],
   "source": [
    "solve_eq(give_me_k(2, -0.018))"
   ]
  },
  {
   "cell_type": "code",
   "execution_count": 37,
   "metadata": {},
   "outputs": [
    {
     "data": {
      "text/plain": [
       "0.7886751345948128"
      ]
     },
     "execution_count": 37,
     "metadata": {},
     "output_type": "execute_result"
    }
   ],
   "source": [
    "ButcherTable1[0][0]"
   ]
  },
  {
   "cell_type": "code",
   "execution_count": 103,
   "metadata": {},
   "outputs": [],
   "source": [
    "def find_y(y_1, y_2, y_3, h):\n",
    "    #поиск для первого уравнения к1 и к2\n",
    "    a = []\n",
    "    a.append(10**4*h**2*ButcherTable1[0][0]**2)\n",
    "    a.append(-0.04*h*ButcherTable1[0][0]+10**4*y_2*h*ButcherTable1[0][0]+10**4*h*y_3*ButcherTable1[0][0]-1)\n",
    "    a.append(-0.04*y_1 + 10**4*y_2*y_3)\n",
    "             \n",
    "    k1 = list(solve_eq(a))\n",
    "    k1 = k1[0]#выбрать правильный корень\n",
    "    \n",
    "    a = []\n",
    "    a.append(10**4*h**2*ButcherTable1[0][0]**2)\n",
    "    a.append(-0.04*h*ButcherTable1[0][0] + 10**4*(y_2*h*ButcherTable1[0][0] + h**2*ButcherTable1[0][1]*k1*ButcherTable1[0][1]+y_3*ButcherTable1[0][0]*h+h**2*ButcherTable1[0][0]*ButcherTable1[0][1]*k1) -1)\n",
    "    a.append(-0.04*(y_1 + h*ButcherTable1[0][1]*k1)+10**4*(y_2*y_3 + y_2*h*ButcherTable1[0][1]*k1 + y_3*h*ButcherTable1[0][1]*k1))\n",
    "    \n",
    "    k2 = list(solve_eq(a))\n",
    "    k2 = k2[0]#выбрать правильный корень\n",
    "    \n",
    "    y_1_new = y_1 + h*(0.5*k1 + 0.5*k2)\n",
    "    yn_1.append(y_1_new)\n",
    "    \n",
    "    \n",
    "    #поиск для второго уравнения\n",
    "    a = []\n",
    "    a.append(h**2*ButcherTable1[0][0]**2*(-10**4-3*10**7))\n",
    "    a.append(0.04*h*ButcherTable1[0][0] - 10**4*h*ButcherTable1[0][0]*(y_2+y_3) - 6*10**7*h*y_2*ButcherTable1[0][0]-1)\n",
    "    a.append(0.04*y_1 - 10**4*y_2*y_3 - 3*10**7*y_2**2)\n",
    "             \n",
    "    k1 = list(solve_eq(a))\n",
    "    k1 = k1[0]#выбрать правильный корень\n",
    "    \n",
    "    a = []\n",
    "    a.append(h**2*ButcherTable1[0][0]**2*(-10**4-3*10**7))\n",
    "    a.append(0.04*h*ButcherTable1[0][0] - 10**4*(y_2*ButcherTable1[0][0]*h + h**2*ButcherTable1[0][1]*k1*ButcherTable1[0][0]+h*ButcherTable1[0][0]*y_3+h**2*ButcherTable1[0][0]*ButcherTable1[0][1]*k1) - 6*10**7*(h*ButcherTable1[0][0] + h**2*k1*ButcherTable1[0][0]*ButcherTable1[0][1])-1)\n",
    "    a.append(0.04*(y_1+h*k1*ButcherTable1[0][1]) - 10**4*(y_2*y_3+y_2*h*ButcherTable1[0][1]*k1 + h*k1*y_3*ButcherTable1[0][1]+h**2*ButcherTable1[0][1]**2*k1**2) - 3*10**7*(y_2**2+2*h*ButcherTable1[0][1]*k1+h**2*ButcherTable1[0][1]**2*k1**2))\n",
    "    \n",
    "    k2 = list(solve_eq(a))\n",
    "    k2 = k2[0]#выбрать правильный корень\n",
    "    \n",
    "    y_2_new = y_2 + h*(0.5*k1 + 0.5*k2)\n",
    "    yn_2.append(y_2_new)\n",
    "    \n",
    "    #поиск для третьего уравнения\n",
    "    a = []\n",
    "    a.append(h**2*ButcherTable1[0][0]**2*3*10**7)\n",
    "    a.append(2*y_2*h*ButcherTable1[0][0]*3*10**7-1)\n",
    "    a.append(3*10**7*y_2**2)\n",
    "    \n",
    "    k1 = list(solve_eq(a))\n",
    "    k1 = k1[1]#выбрать правильный корень\n",
    "    \n",
    "    a = []\n",
    "    a.append(3*10**7*h**2*ButcherTable1[0][0]**2)\n",
    "    a.append(6*10**7*(y_2*h*ButcherTable1[0][0] + h**2*ButcherTable1[0][1]*ButcherTable1[0][0]*k1)-1)\n",
    "    a.append(3*10**7*(y_2**2 + 2*h*ButcherTable1[0][1]*k1 + h**2*ButcherTable1[0][1]**2*k1**2))\n",
    "    k2 = list(solve_eq(a))\n",
    "    k2 = k2[1]#выбрать правильный корень\n",
    "    \n",
    "    y_3_new = y_3 + h*(0.5*k1 + 0.5*k2)\n",
    "    yn_3.append(y_3_new)\n",
    "    \n",
    "    "
   ]
  },
  {
   "cell_type": "code",
   "execution_count": 104,
   "metadata": {},
   "outputs": [],
   "source": [
    "find_y(yn_1[0], yn_2[0], yn_3[0], h[0])"
   ]
  },
  {
   "cell_type": "code",
   "execution_count": 105,
   "metadata": {},
   "outputs": [
    {
     "ename": "ValueError",
     "evalue": "math domain error",
     "output_type": "error",
     "traceback": [
      "\u001b[0;31m---------------------------------------------------------------------------\u001b[0m",
      "\u001b[0;31mValueError\u001b[0m                                Traceback (most recent call last)",
      "\u001b[0;32m<ipython-input-105-241b858d2b86>\u001b[0m in \u001b[0;36m<module>\u001b[0;34m()\u001b[0m\n\u001b[1;32m      1\u001b[0m \u001b[0;32mfor\u001b[0m \u001b[0mi\u001b[0m \u001b[0;32min\u001b[0m \u001b[0mrange\u001b[0m\u001b[0;34m(\u001b[0m\u001b[0;36m20\u001b[0m\u001b[0;34m)\u001b[0m\u001b[0;34m:\u001b[0m\u001b[0;34m\u001b[0m\u001b[0m\n\u001b[0;32m----> 2\u001b[0;31m     \u001b[0mfind_y\u001b[0m\u001b[0;34m(\u001b[0m\u001b[0myn_1\u001b[0m\u001b[0;34m[\u001b[0m\u001b[0mi\u001b[0m\u001b[0;34m]\u001b[0m\u001b[0;34m,\u001b[0m \u001b[0myn_2\u001b[0m\u001b[0;34m[\u001b[0m\u001b[0mi\u001b[0m\u001b[0;34m]\u001b[0m\u001b[0;34m,\u001b[0m \u001b[0myn_3\u001b[0m\u001b[0;34m[\u001b[0m\u001b[0mi\u001b[0m\u001b[0;34m]\u001b[0m\u001b[0;34m,\u001b[0m \u001b[0mh\u001b[0m\u001b[0;34m[\u001b[0m\u001b[0;36m0\u001b[0m\u001b[0;34m]\u001b[0m\u001b[0;34m)\u001b[0m\u001b[0;34m\u001b[0m\u001b[0m\n\u001b[0m",
      "\u001b[0;32m<ipython-input-103-0640ed4879d2>\u001b[0m in \u001b[0;36mfind_y\u001b[0;34m(y_1, y_2, y_3, h)\u001b[0m\n\u001b[1;32m     27\u001b[0m     \u001b[0ma\u001b[0m\u001b[0;34m.\u001b[0m\u001b[0mappend\u001b[0m\u001b[0;34m(\u001b[0m\u001b[0;36m0.04\u001b[0m\u001b[0;34m*\u001b[0m\u001b[0my_1\u001b[0m \u001b[0;34m-\u001b[0m \u001b[0;36m10\u001b[0m\u001b[0;34m**\u001b[0m\u001b[0;36m4\u001b[0m\u001b[0;34m*\u001b[0m\u001b[0my_2\u001b[0m\u001b[0;34m*\u001b[0m\u001b[0my_3\u001b[0m \u001b[0;34m-\u001b[0m \u001b[0;36m3\u001b[0m\u001b[0;34m*\u001b[0m\u001b[0;36m10\u001b[0m\u001b[0;34m**\u001b[0m\u001b[0;36m7\u001b[0m\u001b[0;34m*\u001b[0m\u001b[0my_2\u001b[0m\u001b[0;34m**\u001b[0m\u001b[0;36m2\u001b[0m\u001b[0;34m)\u001b[0m\u001b[0;34m\u001b[0m\u001b[0m\n\u001b[1;32m     28\u001b[0m \u001b[0;34m\u001b[0m\u001b[0m\n\u001b[0;32m---> 29\u001b[0;31m     \u001b[0mk1\u001b[0m \u001b[0;34m=\u001b[0m \u001b[0mlist\u001b[0m\u001b[0;34m(\u001b[0m\u001b[0msolve_eq\u001b[0m\u001b[0;34m(\u001b[0m\u001b[0ma\u001b[0m\u001b[0;34m)\u001b[0m\u001b[0;34m)\u001b[0m\u001b[0;34m\u001b[0m\u001b[0m\n\u001b[0m\u001b[1;32m     30\u001b[0m     \u001b[0mk1\u001b[0m \u001b[0;34m=\u001b[0m \u001b[0mk1\u001b[0m\u001b[0;34m[\u001b[0m\u001b[0;36m0\u001b[0m\u001b[0;34m]\u001b[0m\u001b[0;31m#выбрать правильный корень\u001b[0m\u001b[0;34m\u001b[0m\u001b[0m\n\u001b[1;32m     31\u001b[0m \u001b[0;34m\u001b[0m\u001b[0m\n",
      "\u001b[0;32m<ipython-input-58-caca6f82348f>\u001b[0m in \u001b[0;36msolve_eq\u001b[0;34m(a)\u001b[0m\n\u001b[1;32m     49\u001b[0m     \u001b[0mD\u001b[0m \u001b[0;34m=\u001b[0m \u001b[0ma\u001b[0m\u001b[0;34m[\u001b[0m\u001b[0;36m1\u001b[0m\u001b[0;34m]\u001b[0m\u001b[0;34m**\u001b[0m\u001b[0;36m2\u001b[0m \u001b[0;34m-\u001b[0m \u001b[0;36m4\u001b[0m\u001b[0;34m*\u001b[0m\u001b[0ma\u001b[0m\u001b[0;34m[\u001b[0m\u001b[0;36m0\u001b[0m\u001b[0;34m]\u001b[0m\u001b[0;34m*\u001b[0m\u001b[0ma\u001b[0m\u001b[0;34m[\u001b[0m\u001b[0;36m2\u001b[0m\u001b[0;34m]\u001b[0m\u001b[0;34m\u001b[0m\u001b[0m\n\u001b[1;32m     50\u001b[0m \u001b[0;34m\u001b[0m\u001b[0m\n\u001b[0;32m---> 51\u001b[0;31m     \u001b[0mk1\u001b[0m \u001b[0;34m=\u001b[0m \u001b[0;34m(\u001b[0m\u001b[0;34m-\u001b[0m\u001b[0ma\u001b[0m\u001b[0;34m[\u001b[0m\u001b[0;36m1\u001b[0m\u001b[0;34m]\u001b[0m \u001b[0;34m+\u001b[0m \u001b[0mmath\u001b[0m\u001b[0;34m.\u001b[0m\u001b[0msqrt\u001b[0m\u001b[0;34m(\u001b[0m\u001b[0mD\u001b[0m\u001b[0;34m)\u001b[0m\u001b[0;34m)\u001b[0m\u001b[0;34m/\u001b[0m\u001b[0;34m(\u001b[0m\u001b[0;36m2\u001b[0m\u001b[0;34m*\u001b[0m\u001b[0ma\u001b[0m\u001b[0;34m[\u001b[0m\u001b[0;36m0\u001b[0m\u001b[0;34m]\u001b[0m\u001b[0;34m)\u001b[0m\u001b[0;34m\u001b[0m\u001b[0m\n\u001b[0m\u001b[1;32m     52\u001b[0m     \u001b[0mk2\u001b[0m \u001b[0;34m=\u001b[0m \u001b[0;34m(\u001b[0m\u001b[0;34m-\u001b[0m\u001b[0ma\u001b[0m\u001b[0;34m[\u001b[0m\u001b[0;36m1\u001b[0m\u001b[0;34m]\u001b[0m \u001b[0;34m-\u001b[0m \u001b[0mmath\u001b[0m\u001b[0;34m.\u001b[0m\u001b[0msqrt\u001b[0m\u001b[0;34m(\u001b[0m\u001b[0mD\u001b[0m\u001b[0;34m)\u001b[0m\u001b[0;34m)\u001b[0m\u001b[0;34m/\u001b[0m\u001b[0;34m(\u001b[0m\u001b[0;36m2\u001b[0m\u001b[0;34m*\u001b[0m\u001b[0ma\u001b[0m\u001b[0;34m[\u001b[0m\u001b[0;36m0\u001b[0m\u001b[0;34m]\u001b[0m\u001b[0;34m)\u001b[0m\u001b[0;34m\u001b[0m\u001b[0m\n\u001b[1;32m     53\u001b[0m \u001b[0;34m\u001b[0m\u001b[0m\n",
      "\u001b[0;31mValueError\u001b[0m: math domain error"
     ]
    }
   ],
   "source": [
    "for i in range(20):\n",
    "    find_y(yn_1[i], yn_2[i], yn_3[i], h[0])"
   ]
  },
  {
   "cell_type": "markdown",
   "metadata": {},
   "source": [
    "Реализуем метод Ньютона"
   ]
  },
  {
   "cell_type": "code",
   "execution_count": 135,
   "metadata": {},
   "outputs": [],
   "source": [
    "max_err = 10**(-15)\n",
    "\n",
    "def deg2(a, b, c, k):\n",
    "    \n",
    "    y = a*k**2 + b*k + c\n",
    "    \n",
    "    return y\n",
    "\n",
    "\n",
    "def solver_1_k1(y_1, y_2, y_3, h):\n",
    "    count = 1\n",
    "    k = 0.01\n",
    "    \n",
    "    a = 10**4*h**2*ButcherTable1[0][0]**2\n",
    "    b = -0.04*h*ButcherTable1[0][0]+10**4*y_2*h*ButcherTable1[0][0]+10**4*h*y_3*ButcherTable1[0][0]-1\n",
    "    c= -0.04*y_1 + 10**4*y_2*y_3\n",
    "    \n",
    "    while abs(deg2(a, b, c, k)) > max_err and count<=100:\n",
    "        \n",
    "        count += 1\n",
    "        \n",
    "        if 2*a*k+b == 0:\n",
    "            k = k + 0.001\n",
    "        \n",
    "        k -= deg2(a,b,c,k)/(2*a*k + b)\n",
    "    \n",
    "    if count <= 100:\n",
    "        print(\"Best k1 is: \", k)\n",
    "        print(\"Iterations numb: \", count)\n",
    "        \n",
    "    else:\n",
    "        print(\"Need more iterations \")\n",
    "        print(\"Current k1: \", k)\n",
    "    return k   "
   ]
  },
  {
   "cell_type": "code",
   "execution_count": 136,
   "metadata": {},
   "outputs": [
    {
     "name": "stdout",
     "output_type": "stream",
     "text": [
      "Best k1 is:  0.03467404882618402\n",
      "Iterations numb:  9\n"
     ]
    },
    {
     "data": {
      "text/plain": [
       "0.03467404882618402"
      ]
     },
     "execution_count": 136,
     "metadata": {},
     "output_type": "execute_result"
    }
   ],
   "source": [
    "solver_1_k1(1, 0, 0, h[0])"
   ]
  },
  {
   "cell_type": "code",
   "execution_count": 137,
   "metadata": {},
   "outputs": [],
   "source": [
    "def solver_1_k2(y_1, y_2, y_3, k1, h):\n",
    "    count = 1\n",
    "    k = 0.01\n",
    "    \n",
    "    a = 10**4*h**2*ButcherTable1[0][0]**2\n",
    "    b = -0.04*h*ButcherTable1[0][0] + 10**4*(y_2*h*ButcherTable1[0][0] + h**2*ButcherTable1[0][1]*k1*ButcherTable1[0][1]+y_3*ButcherTable1[0][0]*h+h**2*ButcherTable1[0][0]*ButcherTable1[0][1]*k1)-1\n",
    "    c = -0.04*(y_1 + h*ButcherTable1[0][1]*k1)+10**4*(y_2*y_3 + y_2*h*ButcherTable1[0][1]*k1 + y_3*h*ButcherTable1[0][1]*k1)\n",
    "    \n",
    "    \n",
    "    while abs(deg2(a, b, c, k)) > max_err and count<=100:\n",
    "        \n",
    "        count += 1\n",
    "        \n",
    "        if 2*a*k+b == 0:\n",
    "            k = k + 0.001\n",
    "        \n",
    "        k -= deg2(a,b,c,k)/(2*a*k + b)\n",
    "    \n",
    "    if count <= 100:\n",
    "        print(\"Best k2 is: \", k)\n",
    "        print(\"Iterations numb: \", count)\n",
    "        \n",
    "        \n",
    "    else:\n",
    "        print(\"Need more iterations \")\n",
    "        print(\"Current k2: \", k)\n",
    "    return k"
   ]
  },
  {
   "cell_type": "code",
   "execution_count": 138,
   "metadata": {},
   "outputs": [
    {
     "name": "stdout",
     "output_type": "stream",
     "text": [
      "Best k1 is:  0.03467404882618402\n",
      "Iterations numb:  9\n",
      "0.03467404882618402\n",
      "Best k2 is:  0.010172120711609384\n",
      "Iterations numb:  4\n"
     ]
    }
   ],
   "source": [
    "k1 = solver_1_k1(1, 0, 0, h[0])\n",
    "print(k1)\n",
    "k2 = solver_1_k2(1, 0, 0, k1, h[0])"
   ]
  },
  {
   "cell_type": "code",
   "execution_count": null,
   "metadata": {},
   "outputs": [],
   "source": []
  }
 ],
 "metadata": {
  "kernelspec": {
   "display_name": "Python 3",
   "language": "python",
   "name": "python3"
  },
  "language_info": {
   "codemirror_mode": {
    "name": "ipython",
    "version": 3
   },
   "file_extension": ".py",
   "mimetype": "text/x-python",
   "name": "python",
   "nbconvert_exporter": "python",
   "pygments_lexer": "ipython3",
   "version": "3.7.2"
  }
 },
 "nbformat": 4,
 "nbformat_minor": 2
}
