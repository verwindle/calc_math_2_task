{
 "cells": [
  {
   "cell_type": "markdown",
   "metadata": {},
   "source": [
    "# ЗАДАНИЕ ПО ВЫЧМАТАМ. ВАРИАНТ 7.5"
   ]
  },
  {
   "cell_type": "code",
   "execution_count": 1,
   "metadata": {},
   "outputs": [],
   "source": [
    "import numpy as np\n",
    "import matplotlib.pyplot as plt\n",
    "from scipy.integrate import odeint\n",
    "import sympy as sp"
   ]
  },
  {
   "cell_type": "markdown",
   "metadata": {},
   "source": [
    "# Суточные колебания концентрации озона в атмосфере Рассмотрим простейшую математическую модель колебаний концентрации озона в ат- мосфере. Она описывается следующей неавтономной системой ОДУ: "
   ]
  },
  {
   "cell_type": "markdown",
   "metadata": {},
   "source": [
    "Параметры системы, начальные условия"
   ]
  },
  {
   "cell_type": "code",
   "execution_count": 2,
   "metadata": {},
   "outputs": [],
   "source": [
    "omega = np.pi/43200  #c-1\n",
    "k1, k2 = 1.63e-16, 4.66e-16\n",
    "c3, c4 = 22.62, 7.601"
   ]
  },
  {
   "cell_type": "code",
   "execution_count": 95,
   "metadata": {},
   "outputs": [],
   "source": [
    "t = np.arange(0, 432, 1)  # step of 1 second\n",
    "def light_dep(w, c, m):  # m for fit in velocities\n",
    "    res = np.arange(0)\n",
    "    for _ in t:\n",
    "        if np.sin(w*_) <= 0.0:\n",
    "            continue\n",
    "        elif round(np.exp(-c/np.sin(w*_))*m):  # not to use ky less than 2 score of k2y1y3\n",
    "            res = np.append(res, round(np.exp(-c/np.sin(w*_))*10*m, 2))  # exponent >= -10m\n",
    "    if not res.size>0:\n",
    "        res = 0  # for the case, when it's darkness all the time\n",
    "    return res"
   ]
  },
  {
   "cell_type": "code",
   "execution_count": 97,
   "metadata": {},
   "outputs": [],
   "source": [
    "k3, k4 = light_dep(omega, c3, 1e15), light_dep(omega, c4, 1e11)  # e-16 and e-12 accordingly"
   ]
  },
  {
   "cell_type": "code",
   "execution_count": 5,
   "metadata": {},
   "outputs": [],
   "source": [
    "y1_0, y2_0, y3_0 = 1e6, 3.7e16, 1e12  # см-3 "
   ]
  },
  {
   "cell_type": "code",
   "execution_count": 6,
   "metadata": {},
   "outputs": [],
   "source": [
    "def kineq(y1, y2, y3):  \n",
    "    dydt_1 = -k1*y1*y2 - k2*y1*y3 + 2*k3*y2 + k4*y3\n",
    "    # dydt_2 = 0\n",
    "    dydt_3 = k1*y1*y2 - k2*y1*y3 - k4*y3\n",
    "    return {1:dydt_1, 3:dydt_3}"
   ]
  },
  {
   "cell_type": "markdown",
   "metadata": {},
   "source": [
    "# Схема Розенброка CROS\n",
    "Yn+1 = Yn + tauRek"
   ]
  },
  {
   "cell_type": "markdown",
   "metadata": {},
   "source": [
    "[E - gamma* h* J]*w = f(x0 + a1*h, y0)"
   ]
  },
  {
   "cell_type": "markdown",
   "metadata": {},
   "source": [
    "a1 = Rebeta = 1/2"
   ]
  },
  {
   "cell_type": "markdown",
   "metadata": {},
   "source": [
    "y1 = y0 + h*Rew"
   ]
  },
  {
   "cell_type": "markdown",
   "metadata": {},
   "source": [
    "Yn+1 = E - (1+j)/2*tau*f(Yn, t)*k = f*(Yn,t + tau/2), a = 1/2"
   ]
  },
  {
   "cell_type": "markdown",
   "metadata": {},
   "source": [
    "beta = {(1+j)/2, (1-j)/2}\n",
    "Re(beta) >= 1/2"
   ]
  },
  {
   "cell_type": "markdown",
   "metadata": {},
   "source": [
    "Функция устойчивости\n",
    "R(z) = [1+(1-beta)*z]/(1-beta*z) "
   ]
  },
  {
   "cell_type": "markdown",
   "metadata": {},
   "source": [
    "R(z) = 1/(1 - z + (z**2)/2)"
   ]
  },
  {
   "cell_type": "markdown",
   "metadata": {},
   "source": [
    "# Матрица Якоби системы ОДУ в y0"
   ]
  },
  {
   "cell_type": "code",
   "execution_count": 27,
   "metadata": {},
   "outputs": [],
   "source": [
    "vars = sp.symbols('y1 y2 y3') # Define variables\n",
    "f = sp.sympify(['-k1*y1*y2 - k2*y1*y3 + 2*k3*y2 + k4*y3', '0', 'k1*y1*y2 - k2*y1*y3 - k4*y3']) # Define function\n",
    "jacoby = sp.zeros(len(f),len(vars)) # Initialise null Jacobian matrix"
   ]
  },
  {
   "cell_type": "code",
   "execution_count": 28,
   "metadata": {},
   "outputs": [
    {
     "data": {
      "text/plain": [
       "Matrix([\n",
       "[-k1*y2 - k2*y3, -k1*y1 + 2*k3, -k2*y1 + k4],\n",
       "[             0,             0,           0],\n",
       "[ k1*y2 - k2*y3,         k1*y1, -k2*y1 - k4]])"
      ]
     },
     "execution_count": 28,
     "metadata": {},
     "output_type": "execute_result"
    }
   ],
   "source": [
    "# Fill Jacobian matrix with entries\n",
    "for i, fi in enumerate(f):\n",
    "     for j, s in enumerate(vars):\n",
    "            jacoby[i,j] = sp.diff(fi, s)\n",
    "jacoby"
   ]
  },
  {
   "cell_type": "code",
   "execution_count": 29,
   "metadata": {},
   "outputs": [
    {
     "data": {
      "text/plain": [
       "-1.629998e-10"
      ]
     },
     "execution_count": 29,
     "metadata": {},
     "output_type": "execute_result"
    }
   ],
   "source": [
    "jacobian = sp.Matrix.det(jacoby)  # det == 0\n",
    "values = []\n",
    "values.append(-k1*y2_0 - k2*y3_0)  #11\n",
    "values.append(-k1*y1_0 + 2*k3)  #12\n",
    "values.append(-k2*y1_0 + k4)  #13\n",
    "values.append(0)  #21\n",
    "values.append(0)  #22\n",
    "values.append(0)  #23\n",
    "values.append(k1*y2_0 - k2*y3_0)  #31\n",
    "values.append(k1*y1_0)  #32\n",
    "values.append(-k2*y1_0 - k4)  #33\n",
    "values[1]"
   ]
  },
  {
   "cell_type": "code",
   "execution_count": 30,
   "metadata": {},
   "outputs": [],
   "source": [
    "j = sp.Matrix(3, 3, values)  # float, and array sometimes, jacoby specified in y0"
   ]
  },
  {
   "cell_type": "markdown",
   "metadata": {},
   "source": [
    "# Составим уравнение схемы"
   ]
  },
  {
   "cell_type": "code",
   "execution_count": 114,
   "metadata": {},
   "outputs": [],
   "source": [
    "gamma = (1+1j)/2\n",
    "t0 = 0\n",
    "h = 1\n",
    "t_end = 100  # 172800\n",
    "e = sp.eye(3)  # E matrix\n",
    "matr = e - gamma*h*j\n",
    "#matr[1]"
   ]
  },
  {
   "cell_type": "code",
   "execution_count": 184,
   "metadata": {},
   "outputs": [
    {
     "data": {
      "text/plain": [
       "Matrix([\n",
       "[ 7.031466, 1.629998e-10,       4.6599e-10],\n",
       "[        0,            1,                0],\n",
       "[-6.030534,    -1.63e-10, 1.00000000046601]])"
      ]
     },
     "execution_count": 184,
     "metadata": {},
     "output_type": "execute_result"
    }
   ],
   "source": [
    "e - j"
   ]
  },
  {
   "cell_type": "code",
   "execution_count": 197,
   "metadata": {},
   "outputs": [],
   "source": [
    "t = np.linspace(t0, t_end, 2*t_end+1)  # h=1, taken h/2\n",
    "def rosenbrock(func): \n",
    "    def especially_for_row_num(row_num):  # with love\n",
    "        kost = 0\n",
    "        row_num = func(omega, c4, 1, t, row_num)\n",
    "        assert row_num == 1 or 3\n",
    "        w = np.arange(0)\n",
    "        if row_num == 1:\n",
    "            init_y = y1_0\n",
    "        else:\n",
    "            init_y = y3_0\n",
    "        y_n = np.array(init_y)  # final decision Yn+1 = Yn + hRew\n",
    "        for _ in t:\n",
    "            if kost % 2 == 0:\n",
    "                k3 = func(omega, c3, 1, t[kost])\n",
    "                k4 = func(omega, c4, 1, t[kost])\n",
    "                y = kineq(y1_0, y2_0, y3_0)[row_num]\n",
    "                matr = e - gamma*h*j  # m*w = f(h, y0)\n",
    "                if row_num!=1:\n",
    "                    _m = matr[6] + matr[7] + matr[8]\n",
    "                      # trying to realise matrix division\n",
    "                else:\n",
    "                    _m = matr[0] + matr[1] + matr[2]\n",
    "            w = np.append(w, (y + _)/_m)\n",
    "            y_n = np.append(y_n, init_y + h*sp.re((y + _)/_m))\n",
    "            kost+=1\n",
    "        #print(w)\n",
    "        return y_n\n",
    "    return especially_for_row_num "
   ]
  },
  {
   "cell_type": "code",
   "execution_count": 198,
   "metadata": {},
   "outputs": [],
   "source": [
    "@rosenbrock\n",
    "def light_dep(w, c, m, t, row_num=None):  # deprecated function from the very beginning\n",
    "    if not row_num:\n",
    "        res = np.arange(0)\n",
    "        if np.sin(w*t) <= 0.0:\n",
    "            pass\n",
    "        elif round(np.exp(-c/np.sin(w*t))*m):  \n",
    "            res = np.append(res, round(np.exp(-c/np.sin(w*t))*10*m, 2)) \n",
    "        if not res.size>0:\n",
    "            res = 0  \n",
    "        return res\n",
    "    else:\n",
    "        return row_num"
   ]
  },
  {
   "cell_type": "code",
   "execution_count": 199,
   "metadata": {},
   "outputs": [
    {
     "data": {
      "text/plain": [
       "array([1000000.0, 39649.8804610220, 39649.9600726886, 39650.0396843551,\n",
       "       39650.1192960216, 39650.1989076881, 39650.2785193546,\n",
       "       39650.3581310211, 39650.4377426878, 39650.5173543541,\n",
       "       39650.5969660206, 39650.6765776873, 39650.7561893538,\n",
       "       39650.8358010201, 39650.9154126868, 39650.9950243533,\n",
       "       39651.0746360198, 39651.1542476864, 39651.2338593528,\n",
       "       39651.3134710193, 39651.3930826859, 39651.4726943524,\n",
       "       39651.5523060188, 39651.6319176854, 39651.7115293519,\n",
       "       39651.7911410184, 39651.8707526849, 39651.9503643514,\n",
       "       39652.0299760179, 39652.1095876845, 39652.1891993509,\n",
       "       39652.2688110174, 39652.3484226840, 39652.4280343505,\n",
       "       39652.5076460169, 39652.5872576835, 39652.6668693500,\n",
       "       39652.7464810165, 39652.8260926830, 39652.9057043495,\n",
       "       39652.9853160160, 39653.0649276826, 39653.1445393491,\n",
       "       39653.2241510155, 39653.3037626821, 39653.3833743486,\n",
       "       39653.4629860151, 39653.5425976816, 39653.6222093481,\n",
       "       39653.7018210146, 39653.7814326813, 39653.8610443476,\n",
       "       39653.9406560141, 39654.0202676808, 39654.0998793473,\n",
       "       39654.1794910136, 39654.2591026803, 39654.3387143468,\n",
       "       39654.4183260133, 39654.4979376798, 39654.5775493463,\n",
       "       39654.6571610129, 39654.7367726794, 39654.8163843459,\n",
       "       39654.8959960124, 39654.9756076789, 39655.0552193454,\n",
       "       39655.1348310120, 39655.2144426784, 39655.2940543449,\n",
       "       39655.3736660115, 39655.4532776780, 39655.5328893444,\n",
       "       39655.6125010110, 39655.6921126775, 39655.7717243440,\n",
       "       39655.8513360105, 39655.9309476770, 39656.0105593435,\n",
       "       39656.0901710101, 39656.1697826765, 39656.2493943430,\n",
       "       39656.3290060096, 39656.4086176761, 39656.4882293426,\n",
       "       39656.5678410091, 39656.6474526756, 39656.7270643421,\n",
       "       39656.8066760087, 39656.8862876751, 39656.9658993416,\n",
       "       39657.0455110082, 39657.1251226747, 39657.2047343411,\n",
       "       39657.2843460077, 39657.3639576742, 39657.4435693407,\n",
       "       39657.5231810072, 39657.6027926737, 39657.6824043402,\n",
       "       39657.7620160069, 39657.8416276732, 39657.9212393397,\n",
       "       39658.0008510064, 39658.0804626729, 39658.1600743392,\n",
       "       39658.2396860059, 39658.3192976724, 39658.3989093389,\n",
       "       39658.4785210055, 39658.5581326719, 39658.6377443384,\n",
       "       39658.7173560050, 39658.7969676715, 39658.8765793379,\n",
       "       39658.9561910045, 39659.0358026710, 39659.1154143375,\n",
       "       39659.1950260040, 39659.2746376705, 39659.3542493370,\n",
       "       39659.4338610036, 39659.5134726700, 39659.5930843365,\n",
       "       39659.6726960031, 39659.7523076696, 39659.8319193360,\n",
       "       39659.9115310026, 39659.9911426691, 39660.0707543356,\n",
       "       39660.1503660022, 39660.2299776686, 39660.3095893351,\n",
       "       39660.3892010017, 39660.4688126682, 39660.5484243346,\n",
       "       39660.6280360012, 39660.7076476677, 39660.7872593342,\n",
       "       39660.8668710007, 39660.9464826672, 39661.0260943337,\n",
       "       39661.1057060004, 39661.1853176667, 39661.2649293332,\n",
       "       39661.3445409999, 39661.4241526664, 39661.5037643327,\n",
       "       39661.5833759994, 39661.6629876659, 39661.7425993324,\n",
       "       39661.8222109989, 39661.9018226654, 39661.9814343319,\n",
       "       39662.0610459985, 39662.1406576650, 39662.2202693314,\n",
       "       39662.2998809980, 39662.3794926645, 39662.4591043310,\n",
       "       39662.5387159975, 39662.6183276640, 39662.6979393305,\n",
       "       39662.7775509971, 39662.8571626635, 39662.9367743300,\n",
       "       39663.0163859966, 39663.0959976631, 39663.1756093295,\n",
       "       39663.2552209961, 39663.3348326626, 39663.4144443291,\n",
       "       39663.4940559956, 39663.5736676621, 39663.6532793286,\n",
       "       39663.7328909952, 39663.8125026617, 39663.8921143281,\n",
       "       39663.9717259947, 39664.0513376612, 39664.1309493277,\n",
       "       39664.2105609942, 39664.2901726607, 39664.3697843272,\n",
       "       39664.4493959938, 39664.5290076602, 39664.6086193267,\n",
       "       39664.6882309933, 39664.7678426598, 39664.8474543262,\n",
       "       39664.9270659928, 39665.0066776593, 39665.0862893258,\n",
       "       39665.1659009923, 39665.2455126588, 39665.3251243253,\n",
       "       39665.4047359920, 39665.4843476585, 39665.5639593250,\n",
       "       39665.6435709915, 39665.7231826580, 39665.8027943246], dtype=object)"
      ]
     },
     "execution_count": 199,
     "metadata": {},
     "output_type": "execute_result"
    }
   ],
   "source": [
    "light_dep(1)"
   ]
  },
  {
   "cell_type": "markdown",
   "metadata": {},
   "source": [
    "# УЖЕ РУНГА"
   ]
  },
  {
   "cell_type": "code",
   "execution_count": 1,
   "metadata": {},
   "outputs": [],
   "source": [
    "class Onestepmethod (object):\n",
    "    def __init__(self, f, y0, t0, te, N, tol):\n",
    "        self.f = f\n",
    "        self.y0 = y0.astype(float)\n",
    "        self.t0 = t0\n",
    "        self.interval = [t0, te]\n",
    "        self.grid = linspace(t0, te, N+2)\n",
    "        self.h = (te-t0)/(N+1)\n",
    "        self.N = N\n",
    "        self.tol = tol\n",
    "        self.m = len(y0)\n",
    "        self.s = len(self.b)\n",
    "        self.solution = None\n",
    "\n",
    "    def step(self):\n",
    "        ti, yi = self.grid[0], self.y0\n",
    "        tim1 = ti\n",
    "        yield np.hstack((array([ti]), yi))\n",
    "        for ti in self.grid[1:]:\n",
    "            yi = yi + self.h * self.phi(tim1, yi)\n",
    "            tim1 = ti\n",
    "            yield np.hstack((array([ti]), yi))\n",
    "\n",
    "    def solve(self):\n",
    "        self.solution = list(self.step())\n",
    "\n",
    "    # To be implemented in a derived class\n",
    "    def phi(self, tim1, yi):\n",
    "        return 1"
   ]
  },
  {
   "cell_type": "code",
   "execution_count": 2,
   "metadata": {},
   "outputs": [],
   "source": [
    "class RungeImplicit(Onestepmethod):\n",
    "    def phi(self, t0, y0):\n",
    "        M = 10\n",
    "        stageDer = array(self.s*[self.f(t0,y0)])\n",
    "        J = jacobian(self.f, t0, y0)\n",
    "        stageVal = self.phi_solve(t0, y0, stageDer, J, M)\n",
    "        return array([dot(self.b, stageVal.reshape(self.s,self.m)[:, j]) for j in range(self.m)])\n",
    "\n",
    "    def phi_solve(self, t0, y0, initVal, J, M):\n",
    "        JJ = eye(self.s*self.m)-self.h*np.kron(self.A, J)\n",
    "        luFactor = linalg.lu_factor(JJ)\n",
    "        for i in range(M):\n",
    "            initVal, norm_d = self.phi_newtonstep(t0, y0, initVal, luFactor)\n",
    "            if norm_d < self.tol:\n",
    "                # print('Newton converged in {} steps'.format(i))\n",
    "                break\n",
    "            elif i == M-1:\n",
    "                raise ValueError('The Newton iteration did not converge.')\n",
    "        return initVal\n",
    "\n",
    "    def phi_newtonstep(self, t0, y0, initVal, luFactor):\n",
    "        d = linalg.lu_solve(luFactor, - self.F(initVal.flatten(), t0, y0))\n",
    "        return initVal.flatten() + d, norm(d)\n",
    "\n",
    "    def F(self, stageDer, t0, y0):\n",
    "        stageDer_new = empty((self.s, self.m))\n",
    "        for i in range(self.s):\n",
    "            stageVal = y0 + array([self.h * dot(self.A[i, :],\n",
    "                                  stageDer.reshape(self.s, self.m)[:, j]) for j in range(self.m)])\n",
    "            stageDer_new[i, :] = self.f(t0 + self.c[i] * self.h, stageVal)\n",
    "        return stageDer - stageDer_new.reshape(-1)"
   ]
  },
  {
   "cell_type": "code",
   "execution_count": 11,
   "metadata": {},
   "outputs": [],
   "source": [
    "class Ordinate:\n",
    "    def __init__(self, y1=y1_0, y2=y2_0, y3=y3_0):\n",
    "        self.y1 = y1\n",
    "        self.y2 = y2\n",
    "        self.y3 = y3\n",
    "    def __str__(self):\n",
    "        return set(y1, y2, y3)\n",
    "\n",
    "    \n",
    "y = Ordinate()"
   ]
  },
  {
   "cell_type": "code",
   "execution_count": 45,
   "metadata": {},
   "outputs": [
    {
     "name": "stdout",
     "output_type": "stream",
     "text": [
      "0.5\n"
     ]
    }
   ],
   "source": [
    "t = np.linspace(0, 100, 201)\n",
    "print(t[1])\n",
    "def test(y ,t):\n",
    "    dydt = 0.3*np.cos(y)\n",
    "    return dydt\n",
    "y0 = 1/2\n",
    "y = odeint(test, y0, t)\n",
    "#plt.plot(t, y)\n",
    "#plt.show()\n",
    "#y_1 = odeint(kineq, y1_0, t, axis=2)\n",
    "#y_3 = odeint(kineq, y3_0, t, axis=2)"
   ]
  },
  {
   "cell_type": "code",
   "execution_count": null,
   "metadata": {},
   "outputs": [],
   "source": []
  }
 ],
 "metadata": {
  "kernelspec": {
   "display_name": "Python 3",
   "language": "python",
   "name": "python3"
  },
  "language_info": {
   "codemirror_mode": {
    "name": "ipython",
    "version": 3
   },
   "file_extension": ".py",
   "mimetype": "text/x-python",
   "name": "python",
   "nbconvert_exporter": "python",
   "pygments_lexer": "ipython3",
   "version": "3.7.2"
  }
 },
 "nbformat": 4,
 "nbformat_minor": 2
}
