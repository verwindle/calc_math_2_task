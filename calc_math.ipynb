{
 "cells": [
  {
   "cell_type": "markdown",
   "metadata": {},
   "source": [
    "# ЗАДАНИЕ ПО ВЫЧМАТАМ. ВАРИАНТ 7.5"
   ]
  },
  {
   "cell_type": "code",
   "execution_count": 1,
   "metadata": {},
   "outputs": [],
   "source": [
    "import numpy as np\n",
    "import matplotlib.pyplot as plt\n",
    "from scipy.integrate import odeint"
   ]
  },
  {
   "cell_type": "markdown",
   "metadata": {},
   "source": [
    "# Суточные колебания концентрации озона в атмосфере Рассмотрим простейшую математическую модель колебаний концентрации озона в ат- мосфере. Она описывается следующей неавтономной системой ОДУ: "
   ]
  },
  {
   "cell_type": "markdown",
   "metadata": {},
   "source": [
    "Параметры системы, начальные условия"
   ]
  },
  {
   "cell_type": "code",
   "execution_count": 2,
   "metadata": {},
   "outputs": [],
   "source": [
    "omega = np.pi/43200  #c-1\n",
    "k1, k2 = 1.63e-16, 4.66e-16\n",
    "c3, c4 = 22.62, 7.601"
   ]
  },
  {
   "cell_type": "code",
   "execution_count": 3,
   "metadata": {},
   "outputs": [],
   "source": [
    "t = np.arange(0, 4*43200, 1)  # step of 1 second\n",
    "def light_dep(w, c, m):  # m for fit in velocities\n",
    "    res = np.array(0)  # for the case, when it's darkness all the time\n",
    "    for _ in t:\n",
    "        if np.sin(w*_) <= 0.0:\n",
    "            continue\n",
    "        elif round(np.exp(-c/np.sin(w*_))*m):  # not to use ky less than 2 score of k2y1y3\n",
    "            res = np.append(res, round(np.exp(-c/np.sin(w*_))*10*m, 2))  # exponent >= -10m\n",
    "    res = np.delete(res, 0)\n",
    "    return res\n",
    "    "
   ]
  },
  {
   "cell_type": "code",
   "execution_count": 4,
   "metadata": {},
   "outputs": [],
   "source": [
    "k3, k4 = light_dep(omega, c4, 1e15), light_dep(omega, c4, 1e11)  # e-16 and e-12 accordingly"
   ]
  },
  {
   "cell_type": "code",
   "execution_count": 5,
   "metadata": {},
   "outputs": [],
   "source": [
    "y1_0, y2_0, y3_0 = 1e6, 3.7e16, 1e12  # см-3 "
   ]
  },
  {
   "cell_type": "code",
   "execution_count": 1,
   "metadata": {},
   "outputs": [],
   "source": [
    "class Onestepmethod (object):\n",
    "    def __init__(self, f, y0, t0, te, N, tol):\n",
    "        self.f = f\n",
    "        self.y0 = y0.astype(float)\n",
    "        self.t0 = t0\n",
    "        self.interval = [t0, te]\n",
    "        self.grid = linspace(t0, te, N+2)\n",
    "        self.h = (te-t0)/(N+1)\n",
    "        self.N = N\n",
    "        self.tol = tol\n",
    "        self.m = len(y0)\n",
    "        self.s = len(self.b)\n",
    "        self.solution = None\n",
    "\n",
    "    def step(self):\n",
    "        ti, yi = self.grid[0], self.y0\n",
    "        tim1 = ti\n",
    "        yield np.hstack((array([ti]), yi))\n",
    "        for ti in self.grid[1:]:\n",
    "            yi = yi + self.h * self.phi(tim1, yi)\n",
    "            tim1 = ti\n",
    "            yield np.hstack((array([ti]), yi))\n",
    "\n",
    "    def solve(self):\n",
    "        self.solution = list(self.step())\n",
    "\n",
    "    # To be implemented in a derived class\n",
    "    def phi(self, tim1, yi):\n",
    "        return 1"
   ]
  },
  {
   "cell_type": "code",
   "execution_count": 2,
   "metadata": {},
   "outputs": [],
   "source": [
    "class RungeImplicit(Onestepmethod):\n",
    "    def phi(self, t0, y0):\n",
    "        M = 10\n",
    "        stageDer = array(self.s*[self.f(t0,y0)])\n",
    "        J = jacobian(self.f, t0, y0)\n",
    "        stageVal = self.phi_solve(t0, y0, stageDer, J, M)\n",
    "        return array([dot(self.b, stageVal.reshape(self.s,self.m)[:, j]) for j in range(self.m)])\n",
    "\n",
    "    def phi_solve(self, t0, y0, initVal, J, M):\n",
    "        JJ = eye(self.s*self.m)-self.h*np.kron(self.A, J)\n",
    "        luFactor = linalg.lu_factor(JJ)\n",
    "        for i in range(M):\n",
    "            initVal, norm_d = self.phi_newtonstep(t0, y0, initVal, luFactor)\n",
    "            if norm_d < self.tol:\n",
    "                # print('Newton converged in {} steps'.format(i))\n",
    "                break\n",
    "            elif i == M-1:\n",
    "                raise ValueError('The Newton iteration did not converge.')\n",
    "        return initVal\n",
    "\n",
    "    def phi_newtonstep(self, t0, y0, initVal, luFactor):\n",
    "        d = linalg.lu_solve(luFactor, - self.F(initVal.flatten(), t0, y0))\n",
    "        return initVal.flatten() + d, norm(d)\n",
    "\n",
    "    def F(self, stageDer, t0, y0):\n",
    "        stageDer_new = empty((self.s, self.m))\n",
    "        for i in range(self.s):\n",
    "            stageVal = y0 + array([self.h * dot(self.A[i, :],\n",
    "                                  stageDer.reshape(self.s, self.m)[:, j]) for j in range(self.m)])\n",
    "            stageDer_new[i, :] = self.f(t0 + self.c[i] * self.h, stageVal)\n",
    "        return stageDer - stageDer_new.reshape(-1)"
   ]
  },
  {
   "cell_type": "code",
   "execution_count": 11,
   "metadata": {},
   "outputs": [],
   "source": [
    "class Ordinate:\n",
    "    def __init__(self, y1=y1_0, y2=y2_0, y3=y3_0):\n",
    "        self.y1 = y1\n",
    "        self.y2 = y2\n",
    "        self.y3 = y3\n",
    "    def __str__(self):\n",
    "        return set(y1, y2, y3)\n",
    "\n",
    "    \n",
    "y = Ordinate()"
   ]
  },
  {
   "cell_type": "code",
   "execution_count": 13,
   "metadata": {},
   "outputs": [],
   "source": [
    "def kineq(y, t):  \n",
    "    y1 = y[0]\n",
    "    y2 = y[1]\n",
    "    y3 = y[2]\n",
    "    dydt_1 = -k1*y1*y2 - k2*y1*y3 + 2*k3*y2 + k4*y3\n",
    "    # dydt_2 = 0\n",
    "    dydt_3 = k1*y1*y2 - k2*y1*y3 - k4*y3\n",
    "    return set(dydt_1, dydt_3)"
   ]
  },
  {
   "cell_type": "code",
   "execution_count": 15,
   "metadata": {},
   "outputs": [
    {
     "ename": "TypeError",
     "evalue": "odeint() got an unexpected keyword argument 'axis'",
     "output_type": "error",
     "traceback": [
      "\u001b[1;31m---------------------------------------------------------------------------\u001b[0m",
      "\u001b[1;31mTypeError\u001b[0m                                 Traceback (most recent call last)",
      "\u001b[1;32m<ipython-input-15-095270a2d101>\u001b[0m in \u001b[0;36m<module>\u001b[1;34m\u001b[0m\n\u001b[0;32m      1\u001b[0m \u001b[0mt\u001b[0m \u001b[1;33m=\u001b[0m \u001b[0mnp\u001b[0m\u001b[1;33m.\u001b[0m\u001b[0mlinspace\u001b[0m\u001b[1;33m(\u001b[0m\u001b[1;36m0\u001b[0m\u001b[1;33m,\u001b[0m \u001b[1;36m4\u001b[0m\u001b[1;33m*\u001b[0m\u001b[1;36m43200\u001b[0m\u001b[1;33m)\u001b[0m\u001b[1;33m\u001b[0m\u001b[1;33m\u001b[0m\u001b[0m\n\u001b[1;32m----> 2\u001b[1;33m \u001b[0my_1\u001b[0m \u001b[1;33m=\u001b[0m \u001b[0modeint\u001b[0m\u001b[1;33m(\u001b[0m\u001b[0mkineq\u001b[0m\u001b[1;33m,\u001b[0m \u001b[0my1_0\u001b[0m\u001b[1;33m,\u001b[0m \u001b[0mt\u001b[0m\u001b[1;33m,\u001b[0m \u001b[0maxis\u001b[0m\u001b[1;33m=\u001b[0m\u001b[1;36m2\u001b[0m\u001b[1;33m)\u001b[0m\u001b[1;33m\u001b[0m\u001b[1;33m\u001b[0m\u001b[0m\n\u001b[0m\u001b[0;32m      3\u001b[0m \u001b[0my_3\u001b[0m \u001b[1;33m=\u001b[0m \u001b[0modeint\u001b[0m\u001b[1;33m(\u001b[0m\u001b[0mkineq\u001b[0m\u001b[1;33m,\u001b[0m \u001b[0my3_0\u001b[0m\u001b[1;33m,\u001b[0m \u001b[0mt\u001b[0m\u001b[1;33m,\u001b[0m \u001b[0maxis\u001b[0m\u001b[1;33m=\u001b[0m\u001b[1;36m2\u001b[0m\u001b[1;33m)\u001b[0m\u001b[1;33m\u001b[0m\u001b[1;33m\u001b[0m\u001b[0m\n",
      "\u001b[1;31mTypeError\u001b[0m: odeint() got an unexpected keyword argument 'axis'"
     ]
    }
   ],
   "source": [
    "t = np.linspace(0, 4*43200)\n",
    "y_1 = odeint(kineq, y1_0, t, axis=2)\n",
    "y_3 = odeint(kineq, y3_0, t, axis=2)"
   ]
  },
  {
   "cell_type": "code",
   "execution_count": null,
   "metadata": {},
   "outputs": [],
   "source": []
  }
 ],
 "metadata": {
  "kernelspec": {
   "display_name": "Python 3",
   "language": "python",
   "name": "python3"
  },
  "language_info": {
   "codemirror_mode": {
    "name": "ipython",
    "version": 3
   },
   "file_extension": ".py",
   "mimetype": "text/x-python",
   "name": "python",
   "nbconvert_exporter": "python",
   "pygments_lexer": "ipython3",
   "version": "3.7.2"
  }
 },
 "nbformat": 4,
 "nbformat_minor": 2
}
