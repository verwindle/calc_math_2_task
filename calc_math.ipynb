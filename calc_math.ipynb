{
 "cells": [
  {
   "cell_type": "markdown",
   "metadata": {},
   "source": [
    "# ЗАДАНИЕ ПО ВЫЧМАТАМ\n",
    "# ВАРИАНТ 7.5. Численное решение жесткой системы"
   ]
  },
  {
   "cell_type": "code",
   "execution_count": 1,
   "metadata": {},
   "outputs": [],
   "source": [
    "import numpy as np\n",
    "import matplotlib.pyplot as plt\n",
    "import sympy as sp\n",
    "from sympy.interactive import printing\n",
    "printing.init_printing(use_latex=True)"
   ]
  },
  {
   "cell_type": "markdown",
   "metadata": {},
   "source": [
    "# Суточные колебания концентрации озона в атмосфере\n",
    "# Рассмотрим простейшую математическую модель колебаний концентрации озона в атмосфере\n",
    "# Она описывается следующей неавтономной системой ОДУ"
   ]
  },
  {
   "cell_type": "code",
   "execution_count": 95,
   "metadata": {},
   "outputs": [],
   "source": [
    "y1 = sp.Symbol('y1')\n",
    "y2 = sp.Symbol('y2')\n",
    "y3 = sp.Symbol('y3')\n",
    "k1 = sp.Symbol('k1')\n",
    "k2 = sp.Symbol('k2')\n",
    "k3 = sp.Symbol('k3')\n",
    "k4 = sp.Symbol('k4')\n",
    "omega = sp.Symbol('ω')\n",
    "c3 = sp.Symbol('c3')\n",
    "c4 = sp.Symbol('c4')\n",
    "t = sp.Symbol('t')  # Определяем переменные LaTex\n",
    "dydt_1 = sp.Function('y1')(y1,y2,y3,t)\n",
    "dydt_2 = sp.Function('y2')(t)\n",
    "dydt_3 = sp.Function('y3')(y1,y2,y3,t)  # Определяем функции LaTex (уравнения системы)\n",
    "dydt_1 = dydt_1.diff(t)\n",
    "dydt_2 = dydt_2.diff(t)\n",
    "dydt_3 = dydt_3.diff(t)  # вид dy/dt"
   ]
  },
  {
   "cell_type": "code",
   "execution_count": 69,
   "metadata": {},
   "outputs": [],
   "source": [
    "def kineq(y1, y2, y3, k1, k2, k3, k4):  # функция доступа к уравнениям системы kinetic equation\n",
    "    dydt_1 = -k1*y1*y2 - k2*y1*y3 + 2*k3*y2 + k4*y3\n",
    "    dydt_2 = 0\n",
    "    dydt_3 = k1*y1*y2 - k2*y1*y3 - k4*y3\n",
    "    return {1:dydt_1, 2: dydt_2, 3:dydt_3}"
   ]
  },
  {
   "cell_type": "code",
   "execution_count": 66,
   "metadata": {},
   "outputs": [
    {
     "data": {
      "image/png": "[encoded data removed]",
      "text/latex": [
       "$$\\frac{\\partial}{\\partial t} \\operatorname{y_{1}}{\\left (y_{1},y_{2},y_{3},t \\right )} = - k_{1} y_{1} y_{2} - k_{2} y_{1} y_{3} + 2 k_{3} y_{2} + k_{4} y_{3}$$"
      ],
      "text/plain": [
       "∂                                                             \n",
       "──(y₁(y₁, y₂, y₃, t)) = -k₁⋅y₁⋅y₂ - k₂⋅y₁⋅y₃ + 2⋅k₃⋅y₂ + k₄⋅y₃\n",
       "∂t                                                            "
      ]
     },
     "metadata": {},
     "output_type": "display_data"
    },
    {
     "data": {
      "image/png": "[encoded data removed]",
      "text/latex": [
       "$$\\frac{d}{d t} \\operatorname{y_{2}}{\\left (t \\right )} = 0$$"
      ],
      "text/plain": [
       "d            \n",
       "──(y₂(t)) = 0\n",
       "dt           "
      ]
     },
     "metadata": {},
     "output_type": "display_data"
    },
    {
     "data": {
      "image/png": "[encoded data removed]",
      "text/latex": [
       "$$\\frac{\\partial}{\\partial t} \\operatorname{y_{3}}{\\left (y_{1},y_{2},y_{3},t \\right )} = k_{1} y_{1} y_{2} - k_{2} y_{1} y_{3} - k_{4} y_{3}$$"
      ],
      "text/plain": [
       "∂                                                  \n",
       "──(y₃(y₁, y₂, y₃, t)) = k₁⋅y₁⋅y₂ - k₂⋅y₁⋅y₃ - k₄⋅y₃\n",
       "∂t                                                 "
      ]
     },
     "metadata": {},
     "output_type": "display_data"
    }
   ],
   "source": [
    "display(sp.Eq(dydt_1, kineq(y1, y2, y3, k1, k2, k3, k4)[1]))\n",
    "display(sp.Eq(dydt_2, kineq(y1, y2, y3, k1, k2, k3, k4)[2]))\n",
    "display(sp.Eq(dydt_3, kineq(y1, y2, y3, k1, k2, k3, k4)[3]))"
   ]
  },
  {
   "cell_type": "markdown",
   "metadata": {},
   "source": [
    "# Определим параметры системы, начальные условия\n",
    "# Параметры k3, k4 пока покажем оценочно, для представления картины"
   ]
  },
  {
   "cell_type": "code",
   "execution_count": 94,
   "metadata": {},
   "outputs": [],
   "source": [
    "omega = np.pi/43200  # частота колебаний, c-1\n",
    "k1, k2 = 1.63e-16, 4.66e-16  # константы скорости\n",
    "c3, c4 = 22.62, 7.601  # константы дневных колебаний функции exp(-c/sin(wt)), функция определяет зависимость \\ \n",
    "# k3 и k4 от времени"
   ]
  },
  {
   "cell_type": "code",
   "execution_count": 98,
   "metadata": {},
   "outputs": [
    {
     "data": {
      "image/png": "[encoded data removed]",
      "text/latex": [
       "$$\\left ( ω = 7.27220521664304 \\cdot 10^{-5}, \\quad k_{1} = 1.63 \\cdot 10^{-16}, \\quad k_{2} = 4.66 \\cdot 10^{-16}, \\quad k_{3} = 4.66 \\cdot 10^{-16}, \\quad k_{4} = 4.66 \\cdot 10^{-16}, \\quad c_{3} = 22.62, \\quad c_{4} = 7.601\\right )$$"
      ],
      "text/plain": [
       "(ω = 7.27220521664304e-5, k₁ = 1.63e-16, k₂ = 4.66e-16, k₃ = 4.66e-16, k₄ = 4.\n",
       "66e-16, c₃ = 22.62, c₄ = 7.601)"
      ]
     },
     "execution_count": 98,
     "metadata": {},
     "output_type": "execute_result"
    }
   ],
   "source": [
    "sp.Eq(omega,np.pi/43200), \\\n",
    "sp.Eq(k1,1.63e-16), \\\n",
    "sp.Eq(k2,4.66e-16), \\\n",
    "sp.Eq(k3,4.66e-16), \\\n",
    "sp.Eq(k4,4.66e-16), \\\n",
    "sp.Eq(c3,22.62), \\\n",
    "sp.Eq(c4,7.601)  # вид"
   ]
  },
  {
   "cell_type": "code",
   "execution_count": 99,
   "metadata": {},
   "outputs": [],
   "source": [
    "t = np.arange(0, 432, 1)  # step of 1 second\n",
    "def light_dep(w, c, m):  # m for fit in velocities\n",
    "    res = np.arange(0)\n",
    "    for _ in t:\n",
    "        if np.sin(w*_) <= 0.0:\n",
    "            continue\n",
    "        elif round(np.exp(-c/np.sin(w*_))*m):  # not to use ky less than 2 score of k2y1y3\n",
    "            res = np.append(res, round(np.exp(-c/np.sin(w*_))*10*m, 2))  # exponent >= -10m\n",
    "    if not res.size>0:\n",
    "        res = 0  # for the case, when it's darkness all the time\n",
    "    return res"
   ]
  },
  {
   "cell_type": "code",
   "execution_count": 4,
   "metadata": {},
   "outputs": [],
   "source": [
    "k3, k4 = light_dep(omega, c3, 1e15), light_dep(omega, c4, 1e11)  # e-16 and e-12 accordingly"
   ]
  },
  {
   "cell_type": "code",
   "execution_count": 5,
   "metadata": {},
   "outputs": [],
   "source": [
    "y1_0, y2_0, y3_0 = 1e6, 3.7e16, 1e12  # см-3 "
   ]
  },
  {
   "cell_type": "markdown",
   "metadata": {},
   "source": [
    "# Схема Розенброка CROS\n",
    "Yn+1 = Yn + tauRek"
   ]
  },
  {
   "cell_type": "markdown",
   "metadata": {},
   "source": [
    "[E - gamma* h* J]*w = f(x0 + a1*h, y0)"
   ]
  },
  {
   "cell_type": "markdown",
   "metadata": {},
   "source": [
    "a1 = Rebeta = 1/2"
   ]
  },
  {
   "cell_type": "markdown",
   "metadata": {},
   "source": [
    "y1 = y0 + h*Rew"
   ]
  },
  {
   "cell_type": "markdown",
   "metadata": {},
   "source": [
    "Yn+1 = E - (1+j)/2*tau*f(Yn, t)*k = f*(Yn,t + tau/2), a = 1/2"
   ]
  },
  {
   "cell_type": "markdown",
   "metadata": {},
   "source": [
    "beta = {(1+j)/2, (1-j)/2}\n",
    "Re(beta) >= 1/2"
   ]
  },
  {
   "cell_type": "markdown",
   "metadata": {},
   "source": [
    "Функция устойчивости\n",
    "R(z) = [1+(1-beta)*z]/(1-beta*z) "
   ]
  },
  {
   "cell_type": "markdown",
   "metadata": {},
   "source": [
    "R(z) = 1/(1 - z + (z**2)/2)"
   ]
  },
  {
   "cell_type": "markdown",
   "metadata": {},
   "source": [
    "# Матрица Якоби системы ОДУ в y0"
   ]
  },
  {
   "cell_type": "code",
   "execution_count": 7,
   "metadata": {},
   "outputs": [],
   "source": [
    "vars = sp.symbols('y1 y2 y3') # Define variables\n",
    "f = sp.sympify(['-k1*y1*y2 - k2*y1*y3 + 2*k3*y2 + k4*y3', '0', 'k1*y1*y2 - k2*y1*y3 - k4*y3']) # Define function\n",
    "jacoby = sp.zeros(len(f),len(vars)) # Initialise null Jacobian matrix"
   ]
  },
  {
   "cell_type": "code",
   "execution_count": 8,
   "metadata": {},
   "outputs": [
    {
     "data": {
      "text/plain": [
       "Matrix([\n",
       "[-k1*y2 - k2*y3, -k1*y1 + 2*k3, -k2*y1 + k4],\n",
       "[             0,             0,           0],\n",
       "[ k1*y2 - k2*y3,         k1*y1, -k2*y1 - k4]])"
      ]
     },
     "execution_count": 8,
     "metadata": {},
     "output_type": "execute_result"
    }
   ],
   "source": [
    "# Fill Jacobian matrix with entries\n",
    "for i, fi in enumerate(f):\n",
    "     for j, s in enumerate(vars):\n",
    "            jacoby[i,j] = sp.diff(fi, s)\n",
    "jacoby"
   ]
  },
  {
   "cell_type": "code",
   "execution_count": 9,
   "metadata": {},
   "outputs": [],
   "source": [
    "jacobian = sp.Matrix.det(jacoby)  # det == 0\n",
    "def float_jacoby_filler(y1_0, y2_0, y3_0, k1, k2, k3, k4):\n",
    "    values = []\n",
    "    values.append(-k1*y2_0 - k2*y3_0)  #11\n",
    "    values.append(-k1*y1_0 + 2*k3)  #12\n",
    "    values.append(-k2*y1_0 + k4)  #13\n",
    "    values.append(0)  #21\n",
    "    values.append(0)  #22\n",
    "    values.append(0)  #23\n",
    "    values.append(k1*y2_0 - k2*y3_0)  #31\n",
    "    values.append(k1*y1_0)  #32\n",
    "    values.append(-k2*y1_0 - k4)  #33\n",
    "    return values"
   ]
  },
  {
   "cell_type": "code",
   "execution_count": 10,
   "metadata": {},
   "outputs": [],
   "source": [
    "j = sp.Matrix(3, 3, float_jacoby_filler(y1_0, y2_0, y3_0, k1, k2, k3, k4))  # float, and array sometimes, jacoby specified in y0"
   ]
  },
  {
   "cell_type": "markdown",
   "metadata": {},
   "source": [
    "# Составим уравнение схемы"
   ]
  },
  {
   "cell_type": "code",
   "execution_count": 56,
   "metadata": {},
   "outputs": [],
   "source": [
    "gamma = (1+1j)/2\n",
    "t0 = 0\n",
    "h = 10\n",
    "t_end = 172800  # 172800\n",
    "e = sp.eye(3)  # E matrix\n",
    "matr = e - gamma*h*j"
   ]
  },
  {
   "cell_type": "code",
   "execution_count": 57,
   "metadata": {},
   "outputs": [
    {
     "data": {
      "text/plain": [
       "Matrix([\n",
       "[ 31.15733 + 30.15733*I,  8.15e-10 + 8.15e-10*I,       2.33e-9 + 2.33e-9*I],\n",
       "[                     0,                      1,                         0],\n",
       "[-30.15267 - 30.15267*I, -8.15e-10 - 8.15e-10*I, 1.00000000233 + 2.33e-9*I]])"
      ]
     },
     "execution_count": 57,
     "metadata": {},
     "output_type": "execute_result"
    }
   ],
   "source": [
    "matr"
   ]
  },
  {
   "cell_type": "code",
   "execution_count": 70,
   "metadata": {},
   "outputs": [],
   "source": [
    "t = np.linspace(t0, t_end+1, t_end//h)  # h=1, taken h\n",
    "def rosenbrock(func): \n",
    "    def especially_for_row_num(row_num):  # with love\n",
    "        kost = 0\n",
    "        row_num = func(omega, c4, t, row_num)\n",
    "        assert row_num == 1 or 3\n",
    "        w = np.arange(0)\n",
    "        if row_num == 1:\n",
    "            init_y = y1_0\n",
    "        else:\n",
    "            init_y = y3_0\n",
    "        y_n = np.array(init_y)  # final decision Yn+1 = Yn + hRew\n",
    "        for _ in np.delete(t, 0):\n",
    "            k3 = float(func(omega, c3, t[kost]))\n",
    "            k4 = float(func(omega, c4, t[kost]))\n",
    "            y = kineq(y1_0, y2_0, y3_0, k1, k2 ,k3, k4)[row_num]\n",
    "            j = sp.Matrix(3, 3, float_jacoby_filler(y1_0, y2_0, y3_0, k1, k2, k3, k4))\n",
    "            matr = e - gamma*h*j  # m*w = f(h, y0)\n",
    "            if row_num!=1:\n",
    "                _m = matr[6] + matr[7] + matr[8]\n",
    "                # trying to realise matrix division\n",
    "            else:\n",
    "                _m = matr[0] + matr[1] + matr[2]\n",
    "            # w = np.append(w, (y)/_m)\n",
    "            y_n = np.append(y_n, init_y + h*sp.re(float(y)/_m))  # Yn+1 = Yn + Rew, _ for h\n",
    "            init_y = init_y + h*sp.re(float(y)/_m)\n",
    "            kost+=1\n",
    "        return y_n\n",
    "    return especially_for_row_num "
   ]
  },
  {
   "cell_type": "code",
   "execution_count": 71,
   "metadata": {},
   "outputs": [],
   "source": [
    "@rosenbrock\n",
    "def light_dep(w, c, t, row_num=None):  # deprecated function from the very beginning\n",
    "    if not row_num:\n",
    "        res = np.arange(0)\n",
    "        if np.sin(w*t) <= 0.0:\n",
    "            res = 0\n",
    "        elif round(np.exp(-c/np.sin(w*t)), 18):  \n",
    "            res = np.append(res, round(np.exp(-c/np.sin(w*t)), 18))  # don't see any sense of more scores \n",
    "        if res:\n",
    "            return res\n",
    "        else:\n",
    "            return 0\n",
    "    else:\n",
    "        return row_num"
   ]
  },
  {
   "cell_type": "code",
   "execution_count": 72,
   "metadata": {},
   "outputs": [
    {
     "name": "stderr",
     "output_type": "stream",
     "text": [
      "c:\\users\\константин игоревич\\appdata\\local\\programs\\python\\python37-32\\lib\\site-packages\\ipykernel_launcher.py:9: DeprecationWarning: The truth value of an empty array is ambiguous. Returning False, but in future this will result in an error. Use `array.size > 0` to check that an array is not empty.\n",
      "  if __name__ == '__main__':\n"
     ]
    }
   ],
   "source": [
    "y_1 = light_dep(1)\n",
    "# y_2 = y2_0\n",
    "y_3 = light_dep(3)"
   ]
  },
  {
   "cell_type": "code",
   "execution_count": 73,
   "metadata": {},
   "outputs": [
    {
     "data": {
      "text/plain": [
       "(array([1000000.0, 531.846037277835, -998936.307925444, ...,\n",
       "        178208607096.393, 178207607628.239, 178206608160.085], dtype=object),\n",
       " array([1000000000000.0, 999999000568.485, 999998001136.970, ...,\n",
       "        1175632785611.69, 1175631786180.18, 1175630786748.66], dtype=object))"
      ]
     },
     "execution_count": 73,
     "metadata": {},
     "output_type": "execute_result"
    }
   ],
   "source": [
    "y_1, y_3"
   ]
  },
  {
   "cell_type": "code",
   "execution_count": 75,
   "metadata": {},
   "outputs": [],
   "source": [
    "def oxygen():\n",
    "    return y_1\n",
    "def ozone():\n",
    "    return y_3"
   ]
  },
  {
   "cell_type": "code",
   "execution_count": 78,
   "metadata": {},
   "outputs": [
    {
     "data": {
      "text/plain": [
       "Text(0, 0.5, 'y1(t)')"
      ]
     },
     "execution_count": 78,
     "metadata": {},
     "output_type": "execute_result"
    },
    {
     "data": {
      "image/png": "[encoded data removed]",
      "text/plain": [
       "<Figure size 432x288 with 1 Axes>"
      ]
     },
     "metadata": {
      "needs_background": "light"
     },
     "output_type": "display_data"
    }
   ],
   "source": [
    "plt.plot(t, oxygen())\n",
    "plt.xlabel('time')\n",
    "plt.ylabel('y1(t)')"
   ]
  },
  {
   "cell_type": "code",
   "execution_count": 79,
   "metadata": {},
   "outputs": [
    {
     "data": {
      "text/plain": [
       "Text(0, 0.5, 'y3(t)')"
      ]
     },
     "execution_count": 79,
     "metadata": {},
     "output_type": "execute_result"
    },
    {
     "data": {
      "image/png": "[encoded data removed]",
      "text/plain": [
       "<Figure size 432x288 with 1 Axes>"
      ]
     },
     "metadata": {
      "needs_background": "light"
     },
     "output_type": "display_data"
    }
   ],
   "source": [
    "plt.plot(t, ozone())\n",
    "plt.xlabel('time')\n",
    "plt.ylabel('y3(t)')"
   ]
  },
  {
   "cell_type": "markdown",
   "metadata": {},
   "source": [
    "# УЖЕ РУНГА"
   ]
  },
  {
   "cell_type": "code",
   "execution_count": 1,
   "metadata": {},
   "outputs": [],
   "source": [
    "class Onestepmethod (object):\n",
    "    def __init__(self, f, y0, t0, te, N, tol):\n",
    "        self.f = f\n",
    "        self.y0 = y0.astype(float)\n",
    "        self.t0 = t0\n",
    "        self.interval = [t0, te]\n",
    "        self.grid = linspace(t0, te, N+2)\n",
    "        self.h = (te-t0)/(N+1)\n",
    "        self.N = N\n",
    "        self.tol = tol\n",
    "        self.m = len(y0)\n",
    "        self.s = len(self.b)\n",
    "        self.solution = None\n",
    "\n",
    "    def step(self):\n",
    "        ti, yi = self.grid[0], self.y0\n",
    "        tim1 = ti\n",
    "        yield np.hstack((array([ti]), yi))\n",
    "        for ti in self.grid[1:]:\n",
    "            yi = yi + self.h * self.phi(tim1, yi)\n",
    "            tim1 = ti\n",
    "            yield np.hstack((array([ti]), yi))\n",
    "\n",
    "    def solve(self):\n",
    "        self.solution = list(self.step())\n",
    "\n",
    "    # To be implemented in a derived class\n",
    "    def phi(self, tim1, yi):\n",
    "        return 1"
   ]
  },
  {
   "cell_type": "code",
   "execution_count": 2,
   "metadata": {},
   "outputs": [],
   "source": [
    "class RungeImplicit(Onestepmethod):\n",
    "    def phi(self, t0, y0):\n",
    "        M = 10\n",
    "        stageDer = array(self.s*[self.f(t0,y0)])\n",
    "        J = jacobian(self.f, t0, y0)\n",
    "        stageVal = self.phi_solve(t0, y0, stageDer, J, M)\n",
    "        return array([dot(self.b, stageVal.reshape(self.s,self.m)[:, j]) for j in range(self.m)])\n",
    "\n",
    "    def phi_solve(self, t0, y0, initVal, J, M):\n",
    "        JJ = eye(self.s*self.m)-self.h*np.kron(self.A, J)\n",
    "        luFactor = linalg.lu_factor(JJ)\n",
    "        for i in range(M):\n",
    "            initVal, norm_d = self.phi_newtonstep(t0, y0, initVal, luFactor)\n",
    "            if norm_d < self.tol:\n",
    "                # print('Newton converged in {} steps'.format(i))\n",
    "                break\n",
    "            elif i == M-1:\n",
    "                raise ValueError('The Newton iteration did not converge.')\n",
    "        return initVal\n",
    "\n",
    "    def phi_newtonstep(self, t0, y0, initVal, luFactor):\n",
    "        d = linalg.lu_solve(luFactor, - self.F(initVal.flatten(), t0, y0))\n",
    "        return initVal.flatten() + d, norm(d)\n",
    "\n",
    "    def F(self, stageDer, t0, y0):\n",
    "        stageDer_new = empty((self.s, self.m))\n",
    "        for i in range(self.s):\n",
    "            stageVal = y0 + array([self.h * dot(self.A[i, :],\n",
    "                                  stageDer.reshape(self.s, self.m)[:, j]) for j in range(self.m)])\n",
    "            stageDer_new[i, :] = self.f(t0 + self.c[i] * self.h, stageVal)\n",
    "        return stageDer - stageDer_new.reshape(-1)"
   ]
  },
  {
   "cell_type": "code",
   "execution_count": 11,
   "metadata": {},
   "outputs": [],
   "source": [
    "class Ordinate:\n",
    "    def __init__(self, y1=y1_0, y2=y2_0, y3=y3_0):\n",
    "        self.y1 = y1\n",
    "        self.y2 = y2\n",
    "        self.y3 = y3\n",
    "    def __str__(self):\n",
    "        return set(y1, y2, y3)\n",
    "\n",
    "    \n",
    "y = Ordinate()"
   ]
  },
  {
   "cell_type": "code",
   "execution_count": 45,
   "metadata": {},
   "outputs": [
    {
     "name": "stdout",
     "output_type": "stream",
     "text": [
      "0.5\n"
     ]
    }
   ],
   "source": [
    "t = np.linspace(0, 100, 201)\n",
    "print(t[1])\n",
    "def test(y ,t):\n",
    "    dydt = 0.3*np.cos(y)\n",
    "    return dydt\n",
    "y0 = 1/2\n",
    "y = odeint(test, y0, t)\n",
    "#plt.plot(t, y)\n",
    "#plt.show()\n",
    "#y_1 = odeint(kineq, y1_0, t, axis=2)\n",
    "#y_3 = odeint(kineq, y3_0, t, axis=2)"
   ]
  },
  {
   "cell_type": "code",
   "execution_count": null,
   "metadata": {},
   "outputs": [],
   "source": []
  }
 ],
 "metadata": {
  "kernelspec": {
   "display_name": "Python 3",
   "language": "python",
   "name": "python3"
  },
  "language_info": {
   "codemirror_mode": {
    "name": "ipython",
    "version": 3
   },
   "file_extension": ".py",
   "mimetype": "text/x-python",
   "name": "python",
   "nbconvert_exporter": "python",
   "pygments_lexer": "ipython3",
   "version": "3.7.2"
  }
 },
 "nbformat": 4,
 "nbformat_minor": 2
}
